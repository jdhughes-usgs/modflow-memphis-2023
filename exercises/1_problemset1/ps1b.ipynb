{
 "cells": [
  {
   "cell_type": "code",
   "execution_count": null,
   "id": "38a92391-f7ac-4a8d-a82c-19d894ac840e",
   "metadata": {},
   "outputs": [],
   "source": [
    "import flopy.mf6 as fp"
   ]
  },
  {
   "cell_type": "code",
   "execution_count": null,
   "id": "b902a2a8-117b-4891-a787-29053bdf7e73",
   "metadata": {},
   "outputs": [],
   "source": [
    "name = \"ps1b\""
   ]
  },
  {
   "cell_type": "code",
   "execution_count": null,
   "id": "7be387cc-8836-42e2-b824-4efaa0b5d832",
   "metadata": {},
   "outputs": [],
   "source": [
    "sim = fp.MFSimulation(sim_name=name, sim_ws=name)"
   ]
  },
  {
   "cell_type": "code",
   "execution_count": null,
   "id": "b4703513-9a1e-4f5e-a14b-ce9348c52b73",
   "metadata": {},
   "outputs": [],
   "source": [
    "tdis = fp.ModflowTdis(sim)"
   ]
  },
  {
   "cell_type": "code",
   "execution_count": null,
   "id": "4ee6bc30-d8db-4457-af6d-f8185dfa322c",
   "metadata": {},
   "outputs": [],
   "source": [
    "ims = fp.ModflowIms(sim, complexity=\"simple\")"
   ]
  },
  {
   "cell_type": "code",
   "execution_count": null,
   "id": "d6dfa48f-4407-443b-bc5a-b1d05e3ebe79",
   "metadata": {},
   "outputs": [],
   "source": [
    "gwf = fp.ModflowGwf(sim, modelname=name, print_input=True, print_flows=True, save_flows=True)"
   ]
  },
  {
   "cell_type": "code",
   "execution_count": null,
   "id": "92ca9030-529b-4c66-8694-6d91642a3087",
   "metadata": {},
   "outputs": [],
   "source": [
    "dis = fp.ModflowGwfdis(gwf, nlay=3, nrow=21, ncol=20, \n",
    "                       top=320, botm=[220, 200, 0], \n",
    "                       delr=500., delc=500)"
   ]
  },
  {
   "cell_type": "code",
   "execution_count": null,
   "id": "cee5d008-ac5a-4731-8efc-ecb1e72cfd80",
   "metadata": {},
   "outputs": [],
   "source": [
    "npf = fp.ModflowGwfnpf(gwf,\n",
    "                       save_specific_discharge=True,\n",
    "                       k=[100., .02, 400.], k33=[20., 0.02, 40.]) "
   ]
  },
  {
   "cell_type": "code",
   "execution_count": null,
   "id": "f7bf3803-eca7-4937-a9bf-36f3b1ec3f33",
   "metadata": {},
   "outputs": [],
   "source": [
    "ic = fp.ModflowGwfic(gwf, strt=330.)"
   ]
  },
  {
   "cell_type": "code",
   "execution_count": null,
   "id": "549590dc-52c1-4e4e-aecd-7060e0b9b8af",
   "metadata": {},
   "outputs": [],
   "source": [
    "canal_spd = [(0, i, 0, 330.) for i in range(21)]"
   ]
  },
  {
   "cell_type": "code",
   "execution_count": null,
   "id": "c474551b-eed7-4128-a854-77ce54844550",
   "metadata": {},
   "outputs": [],
   "source": [
    "river_spd = [(0, i, 19, 320.) for i in range(21)]"
   ]
  },
  {
   "cell_type": "code",
   "execution_count": null,
   "id": "af3890ba-76d4-422e-934f-cd8e55a88873",
   "metadata": {},
   "outputs": [],
   "source": [
    "river = fp.ModflowGwfchd(gwf, pname=\"river\", stress_period_data=river_spd)"
   ]
  },
  {
   "cell_type": "code",
   "execution_count": null,
   "id": "2c02bc9b-5459-4364-8bde-9dc8d22ac323",
   "metadata": {},
   "outputs": [],
   "source": [
    "canal = fp.ModflowGwfchd(gwf, pname=\"canal\", stress_period_data=canal_spd)"
   ]
  },
  {
   "cell_type": "code",
   "execution_count": null,
   "id": "996bf90f-f195-4167-86dc-7a5803046861",
   "metadata": {},
   "outputs": [],
   "source": [
    "oc = fp.ModflowGwfoc(gwf, \n",
    "                     head_filerecord=f\"{name}.hds\",\n",
    "                     budget_filerecord=f\"{name}.cbc\",\n",
    "                     saverecord=[(\"head\", \"all\"), (\"budget\", \"all\")])"
   ]
  },
  {
   "cell_type": "code",
   "execution_count": null,
   "id": "366b1aec-9d44-4b26-a360-21b158931fa9",
   "metadata": {},
   "outputs": [],
   "source": [
    "sim.write_simulation()"
   ]
  },
  {
   "cell_type": "code",
   "execution_count": null,
   "id": "17a89ae6-f36b-4e88-999a-79078f76f920",
   "metadata": {},
   "outputs": [],
   "source": [
    "sim.run_simulation()"
   ]
  },
  {
   "cell_type": "code",
   "execution_count": null,
   "id": "dd010ff1-495a-4c3c-aca1-920710ed86d8",
   "metadata": {},
   "outputs": [],
   "source": []
  }
 ],
 "metadata": {
  "kernelspec": {
   "display_name": "Python 3 (ipykernel)",
   "language": "python",
   "name": "python3"
  },
  "language_info": {
   "codemirror_mode": {
    "name": "ipython",
    "version": 3
   },
   "file_extension": ".py",
   "mimetype": "text/x-python",
   "name": "python",
   "nbconvert_exporter": "python",
   "pygments_lexer": "ipython3",
   "version": "3.11.5"
  }
 },
 "nbformat": 4,
 "nbformat_minor": 5
}
