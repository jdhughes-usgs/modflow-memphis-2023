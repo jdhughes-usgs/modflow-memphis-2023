{
 "cells": [
  {
   "cell_type": "code",
   "execution_count": null,
   "id": "b599c403",
   "metadata": {},
   "outputs": [],
   "source": [
    "import numpy as np\n",
    "import matplotlib.pyplot as plt\n",
    "import flopy\n",
    "from flopy.plot import styles"
   ]
  },
  {
   "cell_type": "code",
   "execution_count": null,
   "id": "f06ca080",
   "metadata": {},
   "outputs": [],
   "source": [
    "name = \"at\"\n",
    "ws = \"./\""
   ]
  },
  {
   "cell_type": "code",
   "execution_count": null,
   "id": "c50f0a07",
   "metadata": {},
   "outputs": [],
   "source": [
    "sim = flopy.mf6.MFSimulation.load(sim_name=name, sim_ws=ws)"
   ]
  },
  {
   "cell_type": "code",
   "execution_count": null,
   "id": "11fa353d",
   "metadata": {},
   "outputs": [],
   "source": [
    "sim.run_simulation()"
   ]
  },
  {
   "cell_type": "code",
   "execution_count": null,
   "id": "3acb310b",
   "metadata": {},
   "outputs": [],
   "source": [
    "gwf = sim.get_model()"
   ]
  },
  {
   "cell_type": "code",
   "execution_count": null,
   "id": "37c3d84b",
   "metadata": {},
   "outputs": [],
   "source": [
    "times = gwf.output.head().get_times()\n",
    "times"
   ]
  },
  {
   "cell_type": "code",
   "execution_count": null,
   "id": "39809fd1",
   "metadata": {},
   "outputs": [],
   "source": [
    "levels = np.arange(0, 20, 1)"
   ]
  },
  {
   "cell_type": "code",
   "execution_count": null,
   "id": "e83cc900",
   "metadata": {},
   "outputs": [],
   "source": [
    "hobj = gwf.output.head()\n",
    "cobj = gwf.output.budget()"
   ]
  },
  {
   "cell_type": "code",
   "execution_count": null,
   "id": "0e815630",
   "metadata": {},
   "outputs": [],
   "source": [
    "with styles.USGSMap():\n",
    "    fig, axs = plt.subplots(nrows=5, ncols=4, figsize=(9, 18), constrained_layout=True)\n",
    "    axs = axs.flatten()\n",
    "    idx = 0\n",
    "\n",
    "    for layer in range(5):\n",
    "        for totim in times:\n",
    "            ax = axs[idx]\n",
    "            mv = flopy.plot.PlotMapView(model=gwf, ax=ax, layer=layer)\n",
    "            \n",
    "            head = hobj.get_data(totim=totim)\n",
    "            spdis = cobj.get_data(text=\"DATA-SPDIS\", totim=totim)\n",
    "            qx, qy, qz = flopy.utils.postprocessing.get_specific_discharge(spdis[0], gwf)\n",
    "            \n",
    "            h = mv.plot_array(head)\n",
    "            c = mv.contour_array(head, levels=levels, linewidths=0.5, colors=\"black\")\n",
    "            mv.plot_vector(qx, qy)\n",
    "            mv.ax.set_title(f\"layer {layer + 1} - time {totim} days\", fontsize=8)\n",
    "            idx += 1\n",
    "    "
   ]
  },
  {
   "cell_type": "code",
   "execution_count": null,
   "id": "0977dae1",
   "metadata": {},
   "outputs": [],
   "source": []
  },
  {
   "cell_type": "code",
   "execution_count": null,
   "id": "73abbafb",
   "metadata": {},
   "outputs": [],
   "source": [
    "gwf.lak.output.obs().get_dataframe()"
   ]
  },
  {
   "cell_type": "code",
   "execution_count": null,
   "id": "56f04d3f",
   "metadata": {},
   "outputs": [],
   "source": [
    "gwf.sfr.output.obs().get_dataframe()"
   ]
  }
 ],
 "metadata": {
  "kernelspec": {
   "display_name": "Python 3 (ipykernel)",
   "language": "python",
   "name": "python3"
  },
  "language_info": {
   "codemirror_mode": {
    "name": "ipython",
    "version": 3
   },
   "file_extension": ".py",
   "mimetype": "text/x-python",
   "name": "python",
   "nbconvert_exporter": "python",
   "pygments_lexer": "ipython3",
   "version": "3.11.5"
  }
 },
 "nbformat": 4,
 "nbformat_minor": 5
}
